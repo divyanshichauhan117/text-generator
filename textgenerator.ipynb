{
  "nbformat": 4,
  "nbformat_minor": 0,
  "metadata": {
    "colab": {
      "provenance": [],
      "gpuType": "T4"
    },
    "kernelspec": {
      "name": "python3",
      "display_name": "Python 3"
    },
    "language_info": {
      "name": "python"
    },
    "accelerator": "GPU"
  },
  "cells": [
    {
      "cell_type": "code",
      "source": [
        "import torch\n",
        "import torch.nn as nn\n",
        "import torch.optim as optim\n",
        "import random\n",
        "import string\n",
        "import numpy as np\n",
        "import matplotlib.pyplot as plt\n",
        "from collections import Counter\n",
        "import warnings\n",
        "warnings.filterwarnings('ignore')\n",
        "\n",
        "print(\" All libraries imported successfully!\")\n",
        "print(\" PyTorch version:\", torch.__version__)\n",
        "\n"
      ],
      "metadata": {
        "colab": {
          "base_uri": "https://localhost:8080/"
        },
        "id": "yx4dzDjDPdjG",
        "outputId": "62f49dd4-5ce0-4a4f-d817-5f592c9f6d69"
      },
      "execution_count": 19,
      "outputs": [
        {
          "output_type": "stream",
          "name": "stdout",
          "text": [
            " All libraries imported successfully!\n",
            " PyTorch version: 2.7.1+cu126\n"
          ]
        }
      ]
    },
    {
      "cell_type": "code",
      "source": [
        "sample_texts = [\n",
        "    \"The quick brown fox jumps over the lazy dog.\",\n",
        "    \"Artificial intelligence is transforming the world in amazing ways.\",\n",
        "    \"Once upon a time, there was a magical kingdom filled with wonder.\",\n",
        "    \"Python is a powerful programming language for data science and AI.\",\n",
        "    \"The future holds incredible possibilities for technology and humanity.\",\n",
        "    \"Machine learning algorithms can learn patterns from data automatically.\",\n",
        "    \"In a galaxy far far away, adventures await brave explorers.\",\n",
        "    \"Deep learning networks process information in layers like the human brain.\",\n",
        "    \"Creativity and innovation drive progress in science and technology.\",\n",
        "    \"The ocean waves crash against the shore under the moonlit sky.\"\n",
        "]\n",
        "\n",
        "# Combine all texts\n",
        "full_text = \" \".join(sample_texts).lower()\n",
        "print(\" Training data prepared!\")\n",
        "print(f\" Total characters: {len(full_text)}\")\n",
        "\n"
      ],
      "metadata": {
        "colab": {
          "base_uri": "https://localhost:8080/"
        },
        "id": "zOT_g_hAPdmh",
        "outputId": "9df43ee4-daa4-48a0-b120-3089630bff9d"
      },
      "execution_count": 20,
      "outputs": [
        {
          "output_type": "stream",
          "name": "stdout",
          "text": [
            " Training data prepared!\n",
            " Total characters: 653\n"
          ]
        }
      ]
    },
    {
      "cell_type": "code",
      "source": [
        "chars = sorted(list(set(full_text)))\n",
        "vocab_size = len(chars)\n",
        "\n",
        "char_to_idx = {ch: i for i, ch in enumerate(chars)}\n",
        "idx_to_char = {i: ch for i, ch in enumerate(chars)}\n",
        "\n",
        "print(f\" Vocabulary created!\")\n",
        "print(f\" Vocabulary size: {vocab_size}\")\n",
        "print(f\" Characters: {''.join(chars[:20])}...\" if len(chars) > 20 else f\"🔤 Characters: {''.join(chars)}\")\n"
      ],
      "metadata": {
        "colab": {
          "base_uri": "https://localhost:8080/"
        },
        "id": "NwADe_IKR2et",
        "outputId": "813936b3-9592-456c-ef06-846fdaa66670"
      },
      "execution_count": 21,
      "outputs": [
        {
          "output_type": "stream",
          "name": "stdout",
          "text": [
            " Vocabulary created!\n",
            " Vocabulary size: 29\n",
            " Characters:  ,.abcdefghijklmnopq...\n"
          ]
        }
      ]
    },
    {
      "cell_type": "code",
      "source": [
        "def create_sequences(text, seq_length=10):\n",
        "    sequences = []\n",
        "    targets = []\n",
        "\n",
        "    for i in range(len(text) - seq_length):\n",
        "        seq = text[i:i + seq_length]\n",
        "        target = text[i + seq_length]\n",
        "\n",
        "        seq_indices = [char_to_idx[ch] for ch in seq]\n",
        "        target_idx = char_to_idx[target]\n",
        "\n",
        "        sequences.append(seq_indices)\n",
        "        targets.append(target_idx)\n",
        "\n",
        "    return torch.tensor(sequences), torch.tensor(targets)\n",
        "\n",
        "sequence_length = 10\n",
        "X, y = create_sequences(full_text, sequence_length)\n",
        "\n",
        "print(f\" Training sequences created!\")\n",
        "print(f\" Number of sequences: {len(X)}\")\n",
        "print(f\" Sequence length: {sequence_length}\")\n"
      ],
      "metadata": {
        "colab": {
          "base_uri": "https://localhost:8080/"
        },
        "id": "MpKvia1IR9F3",
        "outputId": "7dad899e-4c50-447d-ad51-022c2fccbf79"
      },
      "execution_count": 22,
      "outputs": [
        {
          "output_type": "stream",
          "name": "stdout",
          "text": [
            " Training sequences created!\n",
            " Number of sequences: 643\n",
            " Sequence length: 10\n"
          ]
        }
      ]
    },
    {
      "cell_type": "code",
      "source": [
        "class SimpleTextGenerator(nn.Module):\n",
        "    def __init__(self, vocab_size, embedding_dim=50, hidden_dim=128, num_layers=2):\n",
        "        super(SimpleTextGenerator, self).__init__()\n",
        "        self.hidden_dim = hidden_dim\n",
        "        self.num_layers = num_layers\n",
        "\n",
        "        self.embedding = nn.Embedding(vocab_size, embedding_dim)\n",
        "\n",
        "        self.lstm = nn.LSTM(embedding_dim, hidden_dim, num_layers, batch_first=True, dropout=0.3)\n",
        "\n",
        "        self.fc = nn.Linear(hidden_dim, vocab_size)\n",
        "        self.dropout = nn.Dropout(0.5)\n",
        "\n",
        "    def forward(self, x, hidden=None):\n",
        "        embedded = self.embedding(x)\n",
        "\n",
        "        lstm_out, hidden = self.lstm(embedded, hidden)\n",
        "\n",
        "        lstm_out = self.dropout(lstm_out[:, -1, :])\n",
        "\n",
        "        output = self.fc(lstm_out)\n",
        "        return output, hidden\n",
        "\n",
        "model = SimpleTextGenerator(vocab_size)\n",
        "criterion = nn.CrossEntropyLoss()\n",
        "optimizer = optim.Adam(model.parameters(), lr=0.01)\n",
        "\n",
        "print(\" Model created successfully!\")\n",
        "print(f\" Model parameters: {sum(p.numel() for p in model.parameters())}\")\n",
        "\n"
      ],
      "metadata": {
        "colab": {
          "base_uri": "https://localhost:8080/"
        },
        "id": "7wI5GGgwSDe7",
        "outputId": "ce3778dd-9663-4749-b22f-7d54d7453ef2"
      },
      "execution_count": 23,
      "outputs": [
        {
          "output_type": "stream",
          "name": "stdout",
          "text": [
            " Model created successfully!\n",
            " Model parameters: 229447\n"
          ]
        }
      ]
    },
    {
      "cell_type": "code",
      "source": [
        "def train_model(model, X, y, epochs=50, batch_size=32):\n",
        "    model.train()\n",
        "    losses = []\n",
        "\n",
        "    print(\" Starting training...\")\n",
        "\n",
        "    for epoch in range(epochs):\n",
        "        total_loss = 0\n",
        "\n",
        "        # Shuffle data\n",
        "        indices = torch.randperm(len(X))\n",
        "\n",
        "        for i in range(0, len(X), batch_size):\n",
        "            batch_indices = indices[i:i + batch_size]\n",
        "            batch_X = X[batch_indices]\n",
        "            batch_y = y[batch_indices]\n",
        "\n",
        "            # Forward pass\n",
        "            optimizer.zero_grad()\n",
        "            outputs, _ = model(batch_X)\n",
        "            loss = criterion(outputs, batch_y)\n",
        "\n",
        "            # Backward pass\n",
        "            loss.backward()\n",
        "            optimizer.step()\n",
        "\n",
        "            total_loss += loss.item()\n",
        "\n",
        "        avg_loss = total_loss / (len(X) // batch_size)\n",
        "        losses.append(avg_loss)\n",
        "\n",
        "        if (epoch + 1) % 10 == 0:\n",
        "            print(f\"Epoch {epoch + 1}/{epochs}, Loss: {avg_loss:.4f}\")\n",
        "\n",
        "    print(\" Training completed!\")\n",
        "    return losses\n",
        "\n",
        "# Train the model\n",
        "training_losses = train_model(model, X, y, epochs=50)\n",
        "\n",
        "# Plot training loss\n",
        "plt.figure(figsize=(10, 6))\n",
        "plt.plot(training_losses)\n",
        "plt.title('Training Loss Over Time')\n",
        "plt.xlabel('Epoch')\n",
        "plt.ylabel('Loss')\n",
        "plt.grid(True)\n",
        "plt.show()\n",
        "\n"
      ],
      "metadata": {
        "colab": {
          "base_uri": "https://localhost:8080/",
          "height": 685
        },
        "id": "BcPkVCuuSN8X",
        "outputId": "78e8ab65-d9c0-4364-aea5-3831324aa730"
      },
      "execution_count": 24,
      "outputs": [
        {
          "output_type": "stream",
          "name": "stdout",
          "text": [
            " Starting training...\n",
            "Epoch 10/50, Loss: 1.6522\n",
            "Epoch 20/50, Loss: 0.9634\n",
            "Epoch 30/50, Loss: 0.7546\n",
            "Epoch 40/50, Loss: 0.7810\n",
            "Epoch 50/50, Loss: 0.7011\n",
            " Training completed!\n"
          ]
        },
        {
          "output_type": "display_data",
          "data": {
            "text/plain": [
              "<Figure size 1000x600 with 1 Axes>"
            ],
            "image/png": "[encoded data removed]"
          },
          "metadata": {}
        }
      ]
    },
    {
      "cell_type": "code",
      "source": [
        "def generate_text(model, seed_text, length=100, temperature=1.0):\n",
        "    model.eval()\n",
        "\n",
        "    if len(seed_text) < sequence_length:\n",
        "        seed_text = seed_text + \" \" * (sequence_length - len(seed_text))\n",
        "\n",
        "    seed_text = seed_text.lower()\n",
        "    generated = seed_text\n",
        "\n",
        "    current_seq = [char_to_idx.get(ch, 0) for ch in seed_text[-sequence_length:]]\n",
        "\n",
        "    with torch.no_grad():\n",
        "        for _ in range(length):\n",
        "            x = torch.tensor([current_seq]).long()\n",
        "\n",
        "            output, _ = model(x)\n",
        "\n",
        "            output = output / temperature\n",
        "            probabilities = torch.softmax(output, dim=1)\n",
        "\n",
        "            next_char_idx = torch.multinomial(probabilities, 1).item()\n",
        "            next_char = idx_to_char[next_char_idx]\n",
        "\n",
        "            generated += next_char\n",
        "\n",
        "            current_seq = current_seq[1:] + [next_char_idx]\n",
        "\n",
        "    return generated\n",
        "\n",
        "print(\" Text generation function ready!\")\n",
        "\n"
      ],
      "metadata": {
        "colab": {
          "base_uri": "https://localhost:8080/"
        },
        "id": "KS1PRnkZSWl0",
        "outputId": "7432b95b-d5a7-4637-fc1b-aaf8f20a21d2"
      },
      "execution_count": 25,
      "outputs": [
        {
          "output_type": "stream",
          "name": "stdout",
          "text": [
            " Text generation function ready!\n"
          ]
        }
      ]
    },
    {
      "cell_type": "code",
      "source": [
        "def interactive_generator():\n",
        "    print(\"\\n\" + \"-\"*50)\n",
        "    print(\"INTERACTIVE TEXT GENERATOR\")\n",
        "    print(\"-\"*50)\n",
        "    print(\"Enter your prompts and watch the AI continue!\")\n",
        "    print(\"Type 'quit' to exit\\n\")\n",
        "\n",
        "    while True:\n",
        "        user_prompt = input(\"Enter your prompt: \").strip()\n",
        "\n",
        "        if user_prompt.lower() in ['quit', 'exit', 'q']:\n",
        "            print(\" Thanks for using the generator!\")\n",
        "            break\n",
        "\n",
        "        if not user_prompt:\n",
        "            print(\"Please enter a valid prompt!\")\n",
        "            continue\n",
        "\n",
        "        try:\n",
        "            length = int(input(\"Length (default 60): \") or 60)\n",
        "            temp = float(input(\"Temperature 0.1-2.0 (default 1.0): \") or 1.0)\n",
        "        except ValueError:\n",
        "            length, temp = 60, 1.0\n",
        "\n",
        "        print(f\"\\n Generating text...\")\n",
        "        result = generate_text(model, user_prompt, length=length, temperature=temp)\n",
        "        print(f\"Result: {result}\")\n",
        "        print(\"-\" * 40)\n",
        "\n"
      ],
      "metadata": {
        "id": "Gn5i0H_7S2Vf"
      },
      "execution_count": 30,
      "outputs": []
    },
    {
      "cell_type": "code",
      "source": [
        "\n",
        "print(\"\\n\" + \"-\"*50)\n",
        "print(\" MODEL STATISTICS\")\n",
        "print(\"-\"*50)\n",
        "\n",
        "print(f\" Vocabulary size: {vocab_size}\")\n",
        "print(f\" Training sequences: {len(X)}\")\n",
        "print(f\" Model parameters: {sum(p.numel() for p in model.parameters()):,}\")\n",
        "print(f\" Final training loss: {training_losses[-1]:.4f}\")\n",
        "\n"
      ],
      "metadata": {
        "colab": {
          "base_uri": "https://localhost:8080/"
        },
        "id": "mmC58CkrTL_l",
        "outputId": "734353bb-ae6e-4213-9f95-5fe20bd0c5a8"
      },
      "execution_count": 29,
      "outputs": [
        {
          "output_type": "stream",
          "name": "stdout",
          "text": [
            "\n",
            "--------------------------------------------------\n",
            " MODEL STATISTICS\n",
            "--------------------------------------------------\n",
            " Vocabulary size: 29\n",
            " Training sequences: 643\n",
            " Model parameters: 229,447\n",
            " Final training loss: 0.7011\n"
          ]
        }
      ]
    }
  ]
}